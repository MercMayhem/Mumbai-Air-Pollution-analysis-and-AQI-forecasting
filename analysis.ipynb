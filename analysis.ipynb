{
 "cells": [
  {
   "cell_type": "code",
   "execution_count": 9,
   "metadata": {},
   "outputs": [],
   "source": [
    "import pandas as pd\n",
    "import numpy as np\n",
    "import seaborn as sns\n",
    "import matplotlib.pyplot as plt\n",
    "\n",
    "import requests\n",
    "from bisect import bisect\n",
    "import datetime"
   ]
  },
  {
   "cell_type": "code",
   "execution_count": 10,
   "metadata": {},
   "outputs": [],
   "source": [
    "IHi_list = [50, 100, 200, 300, 400, 500]\n",
    "ILo_list = [0, 51, 101, 201, 301, 401]\n",
    "BPHi_list = [30, 60, 90, 120, 250, 500]\n",
    "BPLo_list = [0, 31, 61, 91, 121, 251]\n",
    "\n",
    "def pm25_aqi(Cp):\n",
    "    index = bisect(BPLo_list, Cp) - 1\n",
    "    aqi = ((IHi_list[index] - ILo_list[index]) / (BPHi_list[index] - BPLo_list[index])) * (Cp - BPLo_list[index]) + ILo_list[index]\n",
    "    return aqi"
   ]
  },
  {
   "cell_type": "code",
   "execution_count": 14,
   "metadata": {},
   "outputs": [],
   "source": [
    "def data_by_date(start_date, end_date, location_id):\n",
    "    api_url = f\"https://api.openaq.org/v2/measurements?date_from={start_date}&date_to={end_date}&limit=7000&sort=desc&parameter=pm25&location_id={location_id}&order_by=datetime\"\n",
    "    response = requests.get(api_url)\n",
    "    print(response)\n",
    "\n",
    "    results = response.json()[\"results\"]\n",
    "    df = pd.DataFrame(columns=['datetime', 'pm2.5'])\n",
    "\n",
    "    for i, result in enumerate(results):\n",
    "        datetime = result[\"date\"][\"local\"]\n",
    "        pm25 = result[\"value\"]\n",
    "\n",
    "        df.loc[i] = [datetime, pm25]\n",
    "\n",
    "    df.datetime = pd.to_datetime(df.datetime)\n",
    "\n",
    "    df['month'] = df['datetime'].dt.strftime('%B')\n",
    "    df['day'] = df['datetime'].dt.strftime('%d')\n",
    "    df['year'] = df['datetime'].dt.strftime('%Y')\n",
    "    df['time'] = df['datetime'].dt.strftime('%H:%M:%S')\n",
    "\n",
    "    df['sub_index'] = df['pm2.5'].map(pm25_aqi)\n",
    "\n",
    "    return df"
   ]
  },
  {
   "cell_type": "code",
   "execution_count": 33,
   "metadata": {},
   "outputs": [],
   "source": [
    "def month_wise_year_data(year, location_id):\n",
    "    start_date = datetime.date(year, 1, 1).strftime('%Y-%m-%d')\n",
    "    end_date = datetime.date(year, 12, 1).strftime('%Y-%m-%d')\n",
    "\n",
    "    year_data = data_by_date(start_date, end_date, location_id)\n",
    "    final_data = year_data.drop(['pm2.5', 'datetime', 'time'], axis=1).pivot_table(values=['day', 'month', 'year'], index='day', columns=['month', 'year'], aggfunc=np.mean)['sub_index'].reset_index()\n",
    "    final_data.columns = [' '.join(col).rstrip() for col in final_data.columns.values]\n",
    "\n",
    "    return final_data"
   ]
  }
 ],
 "metadata": {
  "kernelspec": {
   "display_name": "Ipy",
   "language": "python",
   "name": "python3"
  },
  "language_info": {
   "codemirror_mode": {
    "name": "ipython",
    "version": 3
   },
   "file_extension": ".py",
   "mimetype": "text/x-python",
   "name": "python",
   "nbconvert_exporter": "python",
   "pygments_lexer": "ipython3",
   "version": "3.10.9"
  },
  "orig_nbformat": 4
 },
 "nbformat": 4,
 "nbformat_minor": 2
}
