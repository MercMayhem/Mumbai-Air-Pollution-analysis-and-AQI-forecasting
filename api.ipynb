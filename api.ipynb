{
 "cells": [
  {
   "cell_type": "code",
   "execution_count": 9,
   "metadata": {},
   "outputs": [],
   "source": [
    "import pandas as pd\n",
    "import requests\n",
    "from urllib.parse import urlencode\n",
    "import math"
   ]
  },
  {
   "cell_type": "code",
   "execution_count": 10,
   "metadata": {},
   "outputs": [],
   "source": [
    "def openaqv2_measurements(\n",
    "        date_from = '2000-01-01',\n",
    "        date_to = '2022-09-29',\n",
    "        location_id = None,\n",
    "        sort = None,\n",
    "        page = 1,\n",
    "        entries = 0\n",
    "):\n",
    "    query_url = 'https://api.openaq.org/v2/measurements'\n",
    "    params = {\n",
    "        'date_from' : date_from,\n",
    "        'date_to' : date_to,\n",
    "        'location_id' : location_id,\n",
    "        'sort' : 'desc',\n",
    "        'order_by' : 'datetime',\n",
    "        'page' : 1\n",
    "    }\n",
    "\n",
    "    api_params = {x : y for (x,y) in params.items() if y != None}\n",
    "    url = f\"{query_url}?{urlencode(api_params)}\"\n",
    "\n",
    "    session = requests.Session()\n",
    "    response = session.get(url)\n",
    "\n",
    "    columns=['location_id', 'location', 'parameter', 'value', 'date_utc', 'unit', 'latitude', 'longitude', 'country', 'city', 'isMobile', 'isAnalysis', 'entity', 'sensorType']\n",
    "    df = pd.DataFrame(columns=columns)\n",
    "\n",
    "    for result in response.json()['results']:\n",
    "        vals = pd.Series([\n",
    "            result['locationId'],\n",
    "            result['location'],\n",
    "            result['parameter'],\n",
    "            result['value'],\n",
    "            result['date']['utc'],\n",
    "            result['unit'],\n",
    "            result['coordinates']['latitude'],\n",
    "            result['coordinates']['longitude'],\n",
    "            result['country'],\n",
    "            result['city'],\n",
    "            result['isMobile'],\n",
    "            result['isAnalysis'],\n",
    "            result['entity'],\n",
    "            result['sensorType']\n",
    "        ])\n",
    "\n",
    "        new_row = pd.Series({x : y for (x,y) in zip(columns, vals)})\n",
    "        df = pd.concat([df, new_row.to_frame().T], ignore_index=True)\n",
    "\n",
    "    if page == 1 and entries != 0:\n",
    "        found = response.json()[\"meta\"][\"found\"]\n",
    "        pages = (math.ceil(entries / 100)) if found >= entries else (math.ceil(found / 100))\n",
    "        \n",
    "        for i in range(2, pages + 1):\n",
    "            df = pd.concat([df, openaqv2_measurements(date_from, date_to, location_id, sort, i)], ignore_index=True)\n",
    "\n",
    "        if df.shape[0] > entries:\n",
    "            df = df.loc[:entries - 1, :]\n",
    "                   \n",
    "    session.close()\n",
    "    return df"
   ]
  },
  {
   "cell_type": "code",
   "execution_count": 11,
   "metadata": {},
   "outputs": [
    {
     "ename": "KeyError",
     "evalue": "'results'",
     "output_type": "error",
     "traceback": [
      "\u001b[0;31m---------------------------------------------------------------------------\u001b[0m",
      "\u001b[0;31mKeyError\u001b[0m                                  Traceback (most recent call last)",
      "Cell \u001b[0;32mIn[11], line 1\u001b[0m\n\u001b[0;32m----> 1\u001b[0m test \u001b[39m=\u001b[39m openaqv2_measurements(entries\u001b[39m=\u001b[39;49m\u001b[39m130\u001b[39;49m)\n\u001b[1;32m      2\u001b[0m test\n",
      "Cell \u001b[0;32mIn[10], line 28\u001b[0m, in \u001b[0;36mopenaqv2_measurements\u001b[0;34m(date_from, date_to, location_id, sort, page, entries)\u001b[0m\n\u001b[1;32m     25\u001b[0m columns\u001b[39m=\u001b[39m[\u001b[39m'\u001b[39m\u001b[39mlocation_id\u001b[39m\u001b[39m'\u001b[39m, \u001b[39m'\u001b[39m\u001b[39mlocation\u001b[39m\u001b[39m'\u001b[39m, \u001b[39m'\u001b[39m\u001b[39mparameter\u001b[39m\u001b[39m'\u001b[39m, \u001b[39m'\u001b[39m\u001b[39mvalue\u001b[39m\u001b[39m'\u001b[39m, \u001b[39m'\u001b[39m\u001b[39mdate_utc\u001b[39m\u001b[39m'\u001b[39m, \u001b[39m'\u001b[39m\u001b[39munit\u001b[39m\u001b[39m'\u001b[39m, \u001b[39m'\u001b[39m\u001b[39mlatitude\u001b[39m\u001b[39m'\u001b[39m, \u001b[39m'\u001b[39m\u001b[39mlongitude\u001b[39m\u001b[39m'\u001b[39m, \u001b[39m'\u001b[39m\u001b[39mcountry\u001b[39m\u001b[39m'\u001b[39m, \u001b[39m'\u001b[39m\u001b[39mcity\u001b[39m\u001b[39m'\u001b[39m, \u001b[39m'\u001b[39m\u001b[39misMobile\u001b[39m\u001b[39m'\u001b[39m, \u001b[39m'\u001b[39m\u001b[39misAnalysis\u001b[39m\u001b[39m'\u001b[39m, \u001b[39m'\u001b[39m\u001b[39mentity\u001b[39m\u001b[39m'\u001b[39m, \u001b[39m'\u001b[39m\u001b[39msensorType\u001b[39m\u001b[39m'\u001b[39m]\n\u001b[1;32m     26\u001b[0m df \u001b[39m=\u001b[39m pd\u001b[39m.\u001b[39mDataFrame(columns\u001b[39m=\u001b[39mcolumns)\n\u001b[0;32m---> 28\u001b[0m \u001b[39mfor\u001b[39;00m result \u001b[39min\u001b[39;00m response\u001b[39m.\u001b[39;49mjson()[\u001b[39m'\u001b[39;49m\u001b[39mresults\u001b[39;49m\u001b[39m'\u001b[39;49m]:\n\u001b[1;32m     29\u001b[0m     vals \u001b[39m=\u001b[39m pd\u001b[39m.\u001b[39mSeries([\n\u001b[1;32m     30\u001b[0m         result[\u001b[39m'\u001b[39m\u001b[39mlocationId\u001b[39m\u001b[39m'\u001b[39m],\n\u001b[1;32m     31\u001b[0m         result[\u001b[39m'\u001b[39m\u001b[39mlocation\u001b[39m\u001b[39m'\u001b[39m],\n\u001b[0;32m   (...)\u001b[0m\n\u001b[1;32m     43\u001b[0m         result[\u001b[39m'\u001b[39m\u001b[39msensorType\u001b[39m\u001b[39m'\u001b[39m]\n\u001b[1;32m     44\u001b[0m     ])\n\u001b[1;32m     46\u001b[0m     new_row \u001b[39m=\u001b[39m pd\u001b[39m.\u001b[39mSeries({x : y \u001b[39mfor\u001b[39;00m (x,y) \u001b[39min\u001b[39;00m \u001b[39mzip\u001b[39m(columns, vals)})\n",
      "\u001b[0;31mKeyError\u001b[0m: 'results'"
     ]
    }
   ],
   "source": [
    "test = openaqv2_measurements(entries=130)\n",
    "test"
   ]
  }
 ],
 "metadata": {
  "kernelspec": {
   "display_name": "Ipy",
   "language": "python",
   "name": "python3"
  },
  "language_info": {
   "codemirror_mode": {
    "name": "ipython",
    "version": 3
   },
   "file_extension": ".py",
   "mimetype": "text/x-python",
   "name": "python",
   "nbconvert_exporter": "python",
   "pygments_lexer": "ipython3",
   "version": "3.10.9"
  },
  "orig_nbformat": 4
 },
 "nbformat": 4,
 "nbformat_minor": 2
}
